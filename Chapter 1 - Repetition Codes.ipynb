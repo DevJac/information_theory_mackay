{
 "cells": [
  {
   "cell_type": "code",
   "execution_count": 1,
   "metadata": {},
   "outputs": [],
   "source": [
    "using Distributions\n",
    "using Plots"
   ]
  },
  {
   "cell_type": "markdown",
   "metadata": {},
   "source": [
    "# Exercise 1.2\n",
    "\n",
    "Show that the error probability is reduced by the use of $R_3$ by computing the error probability of this code for a binary symmetric channel with noise level $f$."
   ]
  },
  {
   "cell_type": "markdown",
   "metadata": {},
   "source": [
    "When using $R_3$, decoding errors only happen if 2 or 3 bits flip.\n",
    "\n",
    "The binomial distribution tells us how likely $k$ bit flips are in $n$ bits, with noise level $f$.\n",
    "\n",
    "$\n",
    "binomial(k|n,f) = {n \\choose k} \\ f^k \\ (1-f)^{n-k}\n",
    "$\n",
    "\n",
    "So the probability of 2 or 3 bits flipping is: $binomial(2|3,f) + binomial(3|3,f)$\n",
    "\n",
    "$\n",
    "binomial(2|3,f) + binomial(3|3,f)\n",
    "\\\\\n",
    "= {3 \\choose 2} \\ f^2 \\ (1-f)^{3-2} + {3 \\choose 3} \\ f^3 \\ (1-f)^{3-3}\n",
    "\\\\\n",
    "= 3f^2 \\ (1-f) + f^3\n",
    "\\\\\n",
    "= 3f^2 - 3f^3 + f^3\n",
    "\\\\\n",
    "= 3f^2 - 2f^3\n",
    "$"
   ]
  },
  {
   "cell_type": "code",
   "execution_count": 2,
   "metadata": {},
   "outputs": [
    {
     "data": {
      "image/svg+xml": [
       "<?xml version=\"1.0\" encoding=\"utf-8\"?>\n",
       "<svg xmlns=\"http://www.w3.org/2000/svg\" xmlns:xlink=\"http://www.w3.org/1999/xlink\" width=\"600\" height=\"400\" viewBox=\"0 0 2400 1600\">\n",
       "<defs>\n",
       "  <clipPath id=\"clip8200\">\n",
       "    <rect x=\"0\" y=\"0\" width=\"2400\" height=\"1600\"/>\n",
       "  </clipPath>\n",
       "</defs>\n",
       "<path clip-path=\"url(#clip8200)\" d=\"\n",
       "M0 1600 L2400 1600 L2400 0 L0 0  Z\n",
       "  \" fill=\"#ffffff\" fill-rule=\"evenodd\" fill-opacity=\"1\"/>\n",
       "<defs>\n",
       "  <clipPath id=\"clip8201\">\n",
       "    <rect x=\"480\" y=\"0\" width=\"1681\" height=\"1600\"/>\n",
       "  </clipPath>\n",
       "</defs>\n",
       "<path clip-path=\"url(#clip8200)\" d=\"\n",
       "M153.898 1487.47 L2352.76 1487.47 L2352.76 47.2441 L153.898 47.2441  Z\n",
       "  \" fill=\"#ffffff\" fill-rule=\"evenodd\" fill-opacity=\"1\"/>\n",
       "<defs>\n",
       "  <clipPath id=\"clip8202\">\n",
       "    <rect x=\"153\" y=\"47\" width=\"2200\" height=\"1441\"/>\n",
       "  </clipPath>\n",
       "</defs>\n",
       "<polyline clip-path=\"url(#clip8202)\" style=\"stroke:#000000; stroke-width:2; stroke-opacity:0.1; fill:none\" points=\"\n",
       "  216.13,1487.47 216.13,47.2441 \n",
       "  \"/>\n",
       "<polyline clip-path=\"url(#clip8202)\" style=\"stroke:#000000; stroke-width:2; stroke-opacity:0.1; fill:none\" points=\"\n",
       "  561.862,1487.47 561.862,47.2441 \n",
       "  \"/>\n",
       "<polyline clip-path=\"url(#clip8202)\" style=\"stroke:#000000; stroke-width:2; stroke-opacity:0.1; fill:none\" points=\"\n",
       "  907.595,1487.47 907.595,47.2441 \n",
       "  \"/>\n",
       "<polyline clip-path=\"url(#clip8202)\" style=\"stroke:#000000; stroke-width:2; stroke-opacity:0.1; fill:none\" points=\"\n",
       "  1253.33,1487.47 1253.33,47.2441 \n",
       "  \"/>\n",
       "<polyline clip-path=\"url(#clip8202)\" style=\"stroke:#000000; stroke-width:2; stroke-opacity:0.1; fill:none\" points=\"\n",
       "  1599.06,1487.47 1599.06,47.2441 \n",
       "  \"/>\n",
       "<polyline clip-path=\"url(#clip8202)\" style=\"stroke:#000000; stroke-width:2; stroke-opacity:0.1; fill:none\" points=\"\n",
       "  1944.79,1487.47 1944.79,47.2441 \n",
       "  \"/>\n",
       "<polyline clip-path=\"url(#clip8202)\" style=\"stroke:#000000; stroke-width:2; stroke-opacity:0.1; fill:none\" points=\"\n",
       "  2290.52,1487.47 2290.52,47.2441 \n",
       "  \"/>\n",
       "<polyline clip-path=\"url(#clip8202)\" style=\"stroke:#000000; stroke-width:2; stroke-opacity:0.1; fill:none\" points=\"\n",
       "  153.898,1446.71 2352.76,1446.71 \n",
       "  \"/>\n",
       "<polyline clip-path=\"url(#clip8202)\" style=\"stroke:#000000; stroke-width:2; stroke-opacity:0.1; fill:none\" points=\"\n",
       "  153.898,1237.04 2352.76,1237.04 \n",
       "  \"/>\n",
       "<polyline clip-path=\"url(#clip8202)\" style=\"stroke:#000000; stroke-width:2; stroke-opacity:0.1; fill:none\" points=\"\n",
       "  153.898,1027.36 2352.76,1027.36 \n",
       "  \"/>\n",
       "<polyline clip-path=\"url(#clip8202)\" style=\"stroke:#000000; stroke-width:2; stroke-opacity:0.1; fill:none\" points=\"\n",
       "  153.898,817.682 2352.76,817.682 \n",
       "  \"/>\n",
       "<polyline clip-path=\"url(#clip8202)\" style=\"stroke:#000000; stroke-width:2; stroke-opacity:0.1; fill:none\" points=\"\n",
       "  153.898,608.005 2352.76,608.005 \n",
       "  \"/>\n",
       "<polyline clip-path=\"url(#clip8202)\" style=\"stroke:#000000; stroke-width:2; stroke-opacity:0.1; fill:none\" points=\"\n",
       "  153.898,398.328 2352.76,398.328 \n",
       "  \"/>\n",
       "<polyline clip-path=\"url(#clip8202)\" style=\"stroke:#000000; stroke-width:2; stroke-opacity:0.1; fill:none\" points=\"\n",
       "  153.898,188.65 2352.76,188.65 \n",
       "  \"/>\n",
       "<polyline clip-path=\"url(#clip8200)\" style=\"stroke:#000000; stroke-width:4; stroke-opacity:1; fill:none\" points=\"\n",
       "  153.898,1487.47 2352.76,1487.47 \n",
       "  \"/>\n",
       "<polyline clip-path=\"url(#clip8200)\" style=\"stroke:#000000; stroke-width:4; stroke-opacity:1; fill:none\" points=\"\n",
       "  153.898,1487.47 153.898,47.2441 \n",
       "  \"/>\n",
       "<polyline clip-path=\"url(#clip8200)\" style=\"stroke:#000000; stroke-width:4; stroke-opacity:1; fill:none\" points=\"\n",
       "  216.13,1487.47 216.13,1470.19 \n",
       "  \"/>\n",
       "<polyline clip-path=\"url(#clip8200)\" style=\"stroke:#000000; stroke-width:4; stroke-opacity:1; fill:none\" points=\"\n",
       "  561.862,1487.47 561.862,1470.19 \n",
       "  \"/>\n",
       "<polyline clip-path=\"url(#clip8200)\" style=\"stroke:#000000; stroke-width:4; stroke-opacity:1; fill:none\" points=\"\n",
       "  907.595,1487.47 907.595,1470.19 \n",
       "  \"/>\n",
       "<polyline clip-path=\"url(#clip8200)\" style=\"stroke:#000000; stroke-width:4; stroke-opacity:1; fill:none\" points=\"\n",
       "  1253.33,1487.47 1253.33,1470.19 \n",
       "  \"/>\n",
       "<polyline clip-path=\"url(#clip8200)\" style=\"stroke:#000000; stroke-width:4; stroke-opacity:1; fill:none\" points=\"\n",
       "  1599.06,1487.47 1599.06,1470.19 \n",
       "  \"/>\n",
       "<polyline clip-path=\"url(#clip8200)\" style=\"stroke:#000000; stroke-width:4; stroke-opacity:1; fill:none\" points=\"\n",
       "  1944.79,1487.47 1944.79,1470.19 \n",
       "  \"/>\n",
       "<polyline clip-path=\"url(#clip8200)\" style=\"stroke:#000000; stroke-width:4; stroke-opacity:1; fill:none\" points=\"\n",
       "  2290.52,1487.47 2290.52,1470.19 \n",
       "  \"/>\n",
       "<polyline clip-path=\"url(#clip8200)\" style=\"stroke:#000000; stroke-width:4; stroke-opacity:1; fill:none\" points=\"\n",
       "  153.898,1446.71 180.284,1446.71 \n",
       "  \"/>\n",
       "<polyline clip-path=\"url(#clip8200)\" style=\"stroke:#000000; stroke-width:4; stroke-opacity:1; fill:none\" points=\"\n",
       "  153.898,1237.04 180.284,1237.04 \n",
       "  \"/>\n",
       "<polyline clip-path=\"url(#clip8200)\" style=\"stroke:#000000; stroke-width:4; stroke-opacity:1; fill:none\" points=\"\n",
       "  153.898,1027.36 180.284,1027.36 \n",
       "  \"/>\n",
       "<polyline clip-path=\"url(#clip8200)\" style=\"stroke:#000000; stroke-width:4; stroke-opacity:1; fill:none\" points=\"\n",
       "  153.898,817.682 180.284,817.682 \n",
       "  \"/>\n",
       "<polyline clip-path=\"url(#clip8200)\" style=\"stroke:#000000; stroke-width:4; stroke-opacity:1; fill:none\" points=\"\n",
       "  153.898,608.005 180.284,608.005 \n",
       "  \"/>\n",
       "<polyline clip-path=\"url(#clip8200)\" style=\"stroke:#000000; stroke-width:4; stroke-opacity:1; fill:none\" points=\"\n",
       "  153.898,398.328 180.284,398.328 \n",
       "  \"/>\n",
       "<polyline clip-path=\"url(#clip8200)\" style=\"stroke:#000000; stroke-width:4; stroke-opacity:1; fill:none\" points=\"\n",
       "  153.898,188.65 180.284,188.65 \n",
       "  \"/>\n",
       "<g clip-path=\"url(#clip8200)\">\n",
       "<text style=\"fill:#000000; fill-opacity:1; font-family:Arial,Helvetica Neue,Helvetica,sans-serif; font-size:48px; text-anchor:middle;\" transform=\"rotate(0, 216.13, 1541.47)\" x=\"216.13\" y=\"1541.47\">0.0</text>\n",
       "</g>\n",
       "<g clip-path=\"url(#clip8200)\">\n",
       "<text style=\"fill:#000000; fill-opacity:1; font-family:Arial,Helvetica Neue,Helvetica,sans-serif; font-size:48px; text-anchor:middle;\" transform=\"rotate(0, 561.862, 1541.47)\" x=\"561.862\" y=\"1541.47\">0.1</text>\n",
       "</g>\n",
       "<g clip-path=\"url(#clip8200)\">\n",
       "<text style=\"fill:#000000; fill-opacity:1; font-family:Arial,Helvetica Neue,Helvetica,sans-serif; font-size:48px; text-anchor:middle;\" transform=\"rotate(0, 907.595, 1541.47)\" x=\"907.595\" y=\"1541.47\">0.2</text>\n",
       "</g>\n",
       "<g clip-path=\"url(#clip8200)\">\n",
       "<text style=\"fill:#000000; fill-opacity:1; font-family:Arial,Helvetica Neue,Helvetica,sans-serif; font-size:48px; text-anchor:middle;\" transform=\"rotate(0, 1253.33, 1541.47)\" x=\"1253.33\" y=\"1541.47\">0.3</text>\n",
       "</g>\n",
       "<g clip-path=\"url(#clip8200)\">\n",
       "<text style=\"fill:#000000; fill-opacity:1; font-family:Arial,Helvetica Neue,Helvetica,sans-serif; font-size:48px; text-anchor:middle;\" transform=\"rotate(0, 1599.06, 1541.47)\" x=\"1599.06\" y=\"1541.47\">0.4</text>\n",
       "</g>\n",
       "<g clip-path=\"url(#clip8200)\">\n",
       "<text style=\"fill:#000000; fill-opacity:1; font-family:Arial,Helvetica Neue,Helvetica,sans-serif; font-size:48px; text-anchor:middle;\" transform=\"rotate(0, 1944.79, 1541.47)\" x=\"1944.79\" y=\"1541.47\">0.5</text>\n",
       "</g>\n",
       "<g clip-path=\"url(#clip8200)\">\n",
       "<text style=\"fill:#000000; fill-opacity:1; font-family:Arial,Helvetica Neue,Helvetica,sans-serif; font-size:48px; text-anchor:middle;\" transform=\"rotate(0, 2290.52, 1541.47)\" x=\"2290.52\" y=\"1541.47\">0.6</text>\n",
       "</g>\n",
       "<g clip-path=\"url(#clip8200)\">\n",
       "<text style=\"fill:#000000; fill-opacity:1; font-family:Arial,Helvetica Neue,Helvetica,sans-serif; font-size:48px; text-anchor:end;\" transform=\"rotate(0, 129.898, 1464.21)\" x=\"129.898\" y=\"1464.21\">0.0</text>\n",
       "</g>\n",
       "<g clip-path=\"url(#clip8200)\">\n",
       "<text style=\"fill:#000000; fill-opacity:1; font-family:Arial,Helvetica Neue,Helvetica,sans-serif; font-size:48px; text-anchor:end;\" transform=\"rotate(0, 129.898, 1254.54)\" x=\"129.898\" y=\"1254.54\">0.1</text>\n",
       "</g>\n",
       "<g clip-path=\"url(#clip8200)\">\n",
       "<text style=\"fill:#000000; fill-opacity:1; font-family:Arial,Helvetica Neue,Helvetica,sans-serif; font-size:48px; text-anchor:end;\" transform=\"rotate(0, 129.898, 1044.86)\" x=\"129.898\" y=\"1044.86\">0.2</text>\n",
       "</g>\n",
       "<g clip-path=\"url(#clip8200)\">\n",
       "<text style=\"fill:#000000; fill-opacity:1; font-family:Arial,Helvetica Neue,Helvetica,sans-serif; font-size:48px; text-anchor:end;\" transform=\"rotate(0, 129.898, 835.182)\" x=\"129.898\" y=\"835.182\">0.3</text>\n",
       "</g>\n",
       "<g clip-path=\"url(#clip8200)\">\n",
       "<text style=\"fill:#000000; fill-opacity:1; font-family:Arial,Helvetica Neue,Helvetica,sans-serif; font-size:48px; text-anchor:end;\" transform=\"rotate(0, 129.898, 625.505)\" x=\"129.898\" y=\"625.505\">0.4</text>\n",
       "</g>\n",
       "<g clip-path=\"url(#clip8200)\">\n",
       "<text style=\"fill:#000000; fill-opacity:1; font-family:Arial,Helvetica Neue,Helvetica,sans-serif; font-size:48px; text-anchor:end;\" transform=\"rotate(0, 129.898, 415.828)\" x=\"129.898\" y=\"415.828\">0.5</text>\n",
       "</g>\n",
       "<g clip-path=\"url(#clip8200)\">\n",
       "<text style=\"fill:#000000; fill-opacity:1; font-family:Arial,Helvetica Neue,Helvetica,sans-serif; font-size:48px; text-anchor:end;\" transform=\"rotate(0, 129.898, 206.15)\" x=\"129.898\" y=\"206.15\">0.6</text>\n",
       "</g>\n",
       "<polyline clip-path=\"url(#clip8202)\" style=\"stroke:#009af9; stroke-width:4; stroke-opacity:1; fill:none\" points=\"\n",
       "  216.13,1446.71 250.703,1446.09 285.276,1444.23 319.85,1441.17 354.423,1436.92 388.996,1431.51 423.569,1424.97 458.142,1417.33 492.716,1408.6 527.289,1398.82 \n",
       "  561.862,1388 596.435,1376.18 631.009,1363.38 665.582,1349.62 700.155,1334.93 734.728,1319.33 769.302,1302.86 803.875,1285.53 838.448,1267.36 873.021,1248.4 \n",
       "  907.595,1228.65 942.168,1208.15 976.741,1186.92 1011.31,1164.98 1045.89,1142.36 1080.46,1119.09 1115.03,1095.19 1149.61,1070.69 1184.18,1045.61 1218.75,1019.97 \n",
       "  1253.33,993.811 1287.9,967.144 1322.47,939.999 1357.05,912.402 1391.62,884.376 1426.19,855.948 1460.77,827.143 1495.34,797.985 1529.91,768.5 1564.49,738.713 \n",
       "  1599.06,708.65 1633.63,678.335 1668.21,647.793 1702.78,617.05 1737.35,586.131 1771.93,555.061 1806.5,523.865 1841.07,492.569 1875.65,461.197 1910.22,429.775 \n",
       "  1944.79,398.328 1979.36,366.88 2013.94,335.458 2048.51,304.086 2083.08,272.79 2117.66,241.594 2152.23,210.524 2186.8,179.605 2221.38,148.862 2255.95,118.32 \n",
       "  2290.52,88.0053 \n",
       "  \"/>\n",
       "<polyline clip-path=\"url(#clip8202)\" style=\"stroke:#e26f46; stroke-width:4; stroke-opacity:1; fill:none\" stroke-dasharray=\"2, 4\" points=\"\n",
       "  216.13,1446.71 250.703,1425.75 285.276,1404.78 319.85,1383.81 354.423,1362.84 388.996,1341.87 423.569,1320.91 458.142,1299.94 492.716,1278.97 527.289,1258 \n",
       "  561.862,1237.04 596.435,1216.07 631.009,1195.1 665.582,1174.13 700.155,1153.17 734.728,1132.2 769.302,1111.23 803.875,1090.26 838.448,1069.29 873.021,1048.33 \n",
       "  907.595,1027.36 942.168,1006.39 976.741,985.424 1011.31,964.456 1045.89,943.488 1080.46,922.521 1115.03,901.553 1149.61,880.585 1184.18,859.617 1218.75,838.65 \n",
       "  1253.33,817.682 1287.9,796.714 1322.47,775.746 1357.05,754.779 1391.62,733.811 1426.19,712.843 1460.77,691.876 1495.34,670.908 1529.91,649.94 1564.49,628.972 \n",
       "  1599.06,608.005 1633.63,587.037 1668.21,566.069 1702.78,545.102 1737.35,524.134 1771.93,503.166 1806.5,482.198 1841.07,461.231 1875.65,440.263 1910.22,419.295 \n",
       "  1944.79,398.328 1979.36,377.36 2013.94,356.392 2048.51,335.424 2083.08,314.457 2117.66,293.489 2152.23,272.521 2186.8,251.554 2221.38,230.586 2255.95,209.618 \n",
       "  2290.52,188.65 \n",
       "  \"/>\n",
       "<path clip-path=\"url(#clip8200)\" d=\"\n",
       "M225.898 312.204 L811.017 312.204 L811.017 130.764 L225.898 130.764  Z\n",
       "  \" fill=\"#ffffff\" fill-rule=\"evenodd\" fill-opacity=\"1\"/>\n",
       "<polyline clip-path=\"url(#clip8200)\" style=\"stroke:#000000; stroke-width:4; stroke-opacity:1; fill:none\" points=\"\n",
       "  225.898,312.204 811.017,312.204 811.017,130.764 225.898,130.764 225.898,312.204 \n",
       "  \"/>\n",
       "<polyline clip-path=\"url(#clip8200)\" style=\"stroke:#009af9; stroke-width:4; stroke-opacity:1; fill:none\" points=\"\n",
       "  249.898,191.244 393.898,191.244 \n",
       "  \"/>\n",
       "<g clip-path=\"url(#clip8200)\">\n",
       "<text style=\"fill:#000000; fill-opacity:1; font-family:Arial,Helvetica Neue,Helvetica,sans-serif; font-size:48px; text-anchor:start;\" transform=\"rotate(0, 417.898, 208.744)\" x=\"417.898\" y=\"208.744\">R3 error rate</text>\n",
       "</g>\n",
       "<polyline clip-path=\"url(#clip8200)\" style=\"stroke:#e26f46; stroke-width:4; stroke-opacity:1; fill:none\" stroke-dasharray=\"2, 4\" points=\"\n",
       "  249.898,251.724 393.898,251.724 \n",
       "  \"/>\n",
       "<g clip-path=\"url(#clip8200)\">\n",
       "<text style=\"fill:#000000; fill-opacity:1; font-family:Arial,Helvetica Neue,Helvetica,sans-serif; font-size:48px; text-anchor:start;\" transform=\"rotate(0, 417.898, 269.224)\" x=\"417.898\" y=\"269.224\">base noise level</text>\n",
       "</g>\n",
       "</svg>\n"
      ]
     },
     "execution_count": 2,
     "metadata": {},
     "output_type": "execute_result"
    }
   ],
   "source": [
    "domain = 0:0.01:0.6\n",
    "plot(domain, f -> 3f^2 - 2f^3, label=\"R3 error rate\", legend=:topleft)\n",
    "plot!(domain, f -> f, label=\"base noise level\", linestyle=:dot)"
   ]
  },
  {
   "cell_type": "markdown",
   "metadata": {},
   "source": [
    "Note: A noise level of $f = 0.5$ would mean the channel is completely random."
   ]
  },
  {
   "cell_type": "markdown",
   "metadata": {},
   "source": [
    "# Exercise 1.3\n",
    "\n",
    "The probability of error of $R_N$ is:\n",
    "\n",
    "$$\n",
    "p_b = \\sum_{n=(N+1)/2}^N \\ {N \\choose n} \\ f^n \\ (1-f)^{N-n}\n",
    "$$\n",
    "\n",
    "Assuming $f = 0.1$, which of the terms in this sum is the biggest? How much bigger is it than the second-biggest term?"
   ]
  },
  {
   "cell_type": "markdown",
   "metadata": {},
   "source": [
    "It appears:\n",
    "\n",
    "$$\n",
    "\\lim_{N \\to \\infty}\n",
    "\\frac{\n",
    "    {N \\choose (N+1)/2}\n",
    "}{\n",
    "    {N \\choose ((N+1)/2)+1}\n",
    "}\n",
    "= 1\n",
    "$$"
   ]
  },
  {
   "cell_type": "code",
   "execution_count": 3,
   "metadata": {},
   "outputs": [
    {
     "data": {
      "text/plain": [
       "26-element Array{Tuple{Int64,Float64},1}:\n",
       " (1, Inf)                \n",
       " (3, 3.0)                \n",
       " (5, 2.0)                \n",
       " (7, 1.6666666666666667) \n",
       " (9, 1.5)                \n",
       " (11, 1.4)               \n",
       " (13, 1.3333333333333333)\n",
       " (15, 1.2857142857142858)\n",
       " (17, 1.25)              \n",
       " (19, 1.2222222222222223)\n",
       " (21, 1.2)               \n",
       " (23, 1.1818181818181819)\n",
       " (25, 1.1666666666666667)\n",
       " (27, 1.1538461538461537)\n",
       " (29, 1.1428571428571428)\n",
       " (31, 1.1333333333333333)\n",
       " (33, 1.125)             \n",
       " (35, 1.1176470588235294)\n",
       " (37, 1.1111111111111112)\n",
       " (39, 1.105263157894737) \n",
       " (41, 1.1)               \n",
       " (43, 1.0952380952380953)\n",
       " (45, 1.0909090909090908)\n",
       " (47, 1.0869565217391304)\n",
       " (49, 1.0833333333333333)\n",
       " (51, 1.08)              "
      ]
     },
     "execution_count": 3,
     "metadata": {},
     "output_type": "execute_result"
    }
   ],
   "source": [
    "map(1:2:51) do N\n",
    "    n = Int((N+1)/2)\n",
    "    b_max = binomial(N, n)\n",
    "    b_next = binomial(N, n+1)\n",
    "    N, b_max / b_next\n",
    "end"
   ]
  },
  {
   "cell_type": "markdown",
   "metadata": {},
   "source": [
    "It appears:\n",
    "\n",
    "$$\n",
    "\\lim_{n \\to \\infty}\n",
    "\\frac{\n",
    "    f^n + (1-f)^{N-n}\n",
    "}{\n",
    "    f^{n+1} + (1-f)^{N-(n+1)}\n",
    "}\n",
    "= f^{-1} \\ (1-f)\n",
    "$$"
   ]
  },
  {
   "cell_type": "code",
   "execution_count": 4,
   "metadata": {},
   "outputs": [
    {
     "data": {
      "text/plain": [
       "16-element Array{Float64,1}:\n",
       " 8.999999999999998\n",
       " 9.0              \n",
       " 9.000000000000002\n",
       " 9.0              \n",
       " 8.999999999999998\n",
       " 9.0              \n",
       " 8.999999999999998\n",
       " 9.0              \n",
       " 9.0              \n",
       " 8.999999999999998\n",
       " 9.0              \n",
       " 8.999999999999998\n",
       " 9.0              \n",
       " 9.0              \n",
       " 9.0              \n",
       " 8.999999999999998"
      ]
     },
     "execution_count": 4,
     "metadata": {},
     "output_type": "execute_result"
    }
   ],
   "source": [
    "f = 0.1\n",
    "map(1:2:31) do N\n",
    "    n = Int((N+1)/2)\n",
    "    num = f^n * (1-f)^(N-n)\n",
    "    den = f^(n+1) * (1-f)^(N-(n+1))\n",
    "    num / den\n",
    "end"
   ]
  },
  {
   "cell_type": "code",
   "execution_count": 5,
   "metadata": {},
   "outputs": [
    {
     "data": {
      "text/plain": [
       "9.0"
      ]
     },
     "execution_count": 5,
     "metadata": {},
     "output_type": "execute_result"
    }
   ],
   "source": [
    "f^-1 * (1-f)"
   ]
  },
  {
   "cell_type": "code",
   "execution_count": 6,
   "metadata": {},
   "outputs": [
    {
     "data": {
      "image/svg+xml": [
       "<?xml version=\"1.0\" encoding=\"utf-8\"?>\n",
       "<svg xmlns=\"http://www.w3.org/2000/svg\" xmlns:xlink=\"http://www.w3.org/1999/xlink\" width=\"600\" height=\"400\" viewBox=\"0 0 2400 1600\">\n",
       "<defs>\n",
       "  <clipPath id=\"clip8600\">\n",
       "    <rect x=\"0\" y=\"0\" width=\"2400\" height=\"1600\"/>\n",
       "  </clipPath>\n",
       "</defs>\n",
       "<path clip-path=\"url(#clip8600)\" d=\"\n",
       "M0 1600 L2400 1600 L2400 0 L0 0  Z\n",
       "  \" fill=\"#ffffff\" fill-rule=\"evenodd\" fill-opacity=\"1\"/>\n",
       "<defs>\n",
       "  <clipPath id=\"clip8601\">\n",
       "    <rect x=\"480\" y=\"0\" width=\"1681\" height=\"1600\"/>\n",
       "  </clipPath>\n",
       "</defs>\n",
       "<path clip-path=\"url(#clip8600)\" d=\"\n",
       "M167.279 1487.47 L2352.76 1487.47 L2352.76 47.2441 L167.279 47.2441  Z\n",
       "  \" fill=\"#ffffff\" fill-rule=\"evenodd\" fill-opacity=\"1\"/>\n",
       "<defs>\n",
       "  <clipPath id=\"clip8602\">\n",
       "    <rect x=\"167\" y=\"47\" width=\"2186\" height=\"1441\"/>\n",
       "  </clipPath>\n",
       "</defs>\n",
       "<polyline clip-path=\"url(#clip8602)\" style=\"stroke:#000000; stroke-width:2; stroke-opacity:0.1; fill:none\" points=\"\n",
       "  229.132,1487.47 229.132,47.2441 \n",
       "  \"/>\n",
       "<polyline clip-path=\"url(#clip8602)\" style=\"stroke:#000000; stroke-width:2; stroke-opacity:0.1; fill:none\" points=\"\n",
       "  744.575,1487.47 744.575,47.2441 \n",
       "  \"/>\n",
       "<polyline clip-path=\"url(#clip8602)\" style=\"stroke:#000000; stroke-width:2; stroke-opacity:0.1; fill:none\" points=\"\n",
       "  1260.02,1487.47 1260.02,47.2441 \n",
       "  \"/>\n",
       "<polyline clip-path=\"url(#clip8602)\" style=\"stroke:#000000; stroke-width:2; stroke-opacity:0.1; fill:none\" points=\"\n",
       "  1775.46,1487.47 1775.46,47.2441 \n",
       "  \"/>\n",
       "<polyline clip-path=\"url(#clip8602)\" style=\"stroke:#000000; stroke-width:2; stroke-opacity:0.1; fill:none\" points=\"\n",
       "  2290.9,1487.47 2290.9,47.2441 \n",
       "  \"/>\n",
       "<polyline clip-path=\"url(#clip8602)\" style=\"stroke:#000000; stroke-width:2; stroke-opacity:0.1; fill:none\" points=\"\n",
       "  167.279,1446.71 2352.76,1446.71 \n",
       "  \"/>\n",
       "<polyline clip-path=\"url(#clip8602)\" style=\"stroke:#000000; stroke-width:2; stroke-opacity:0.1; fill:none\" points=\"\n",
       "  167.279,1103.61 2352.76,1103.61 \n",
       "  \"/>\n",
       "<polyline clip-path=\"url(#clip8602)\" style=\"stroke:#000000; stroke-width:2; stroke-opacity:0.1; fill:none\" points=\"\n",
       "  167.279,760.497 2352.76,760.497 \n",
       "  \"/>\n",
       "<polyline clip-path=\"url(#clip8602)\" style=\"stroke:#000000; stroke-width:2; stroke-opacity:0.1; fill:none\" points=\"\n",
       "  167.279,417.389 2352.76,417.389 \n",
       "  \"/>\n",
       "<polyline clip-path=\"url(#clip8602)\" style=\"stroke:#000000; stroke-width:2; stroke-opacity:0.1; fill:none\" points=\"\n",
       "  167.279,74.281 2352.76,74.281 \n",
       "  \"/>\n",
       "<polyline clip-path=\"url(#clip8600)\" style=\"stroke:#000000; stroke-width:4; stroke-opacity:1; fill:none\" points=\"\n",
       "  167.279,1487.47 2352.76,1487.47 \n",
       "  \"/>\n",
       "<polyline clip-path=\"url(#clip8600)\" style=\"stroke:#000000; stroke-width:4; stroke-opacity:1; fill:none\" points=\"\n",
       "  167.279,1487.47 167.279,47.2441 \n",
       "  \"/>\n",
       "<polyline clip-path=\"url(#clip8600)\" style=\"stroke:#000000; stroke-width:4; stroke-opacity:1; fill:none\" points=\"\n",
       "  229.132,1487.47 229.132,1470.19 \n",
       "  \"/>\n",
       "<polyline clip-path=\"url(#clip8600)\" style=\"stroke:#000000; stroke-width:4; stroke-opacity:1; fill:none\" points=\"\n",
       "  744.575,1487.47 744.575,1470.19 \n",
       "  \"/>\n",
       "<polyline clip-path=\"url(#clip8600)\" style=\"stroke:#000000; stroke-width:4; stroke-opacity:1; fill:none\" points=\"\n",
       "  1260.02,1487.47 1260.02,1470.19 \n",
       "  \"/>\n",
       "<polyline clip-path=\"url(#clip8600)\" style=\"stroke:#000000; stroke-width:4; stroke-opacity:1; fill:none\" points=\"\n",
       "  1775.46,1487.47 1775.46,1470.19 \n",
       "  \"/>\n",
       "<polyline clip-path=\"url(#clip8600)\" style=\"stroke:#000000; stroke-width:4; stroke-opacity:1; fill:none\" points=\"\n",
       "  2290.9,1487.47 2290.9,1470.19 \n",
       "  \"/>\n",
       "<polyline clip-path=\"url(#clip8600)\" style=\"stroke:#000000; stroke-width:4; stroke-opacity:1; fill:none\" points=\"\n",
       "  167.279,1446.71 193.505,1446.71 \n",
       "  \"/>\n",
       "<polyline clip-path=\"url(#clip8600)\" style=\"stroke:#000000; stroke-width:4; stroke-opacity:1; fill:none\" points=\"\n",
       "  167.279,1103.61 193.505,1103.61 \n",
       "  \"/>\n",
       "<polyline clip-path=\"url(#clip8600)\" style=\"stroke:#000000; stroke-width:4; stroke-opacity:1; fill:none\" points=\"\n",
       "  167.279,760.497 193.505,760.497 \n",
       "  \"/>\n",
       "<polyline clip-path=\"url(#clip8600)\" style=\"stroke:#000000; stroke-width:4; stroke-opacity:1; fill:none\" points=\"\n",
       "  167.279,417.389 193.505,417.389 \n",
       "  \"/>\n",
       "<polyline clip-path=\"url(#clip8600)\" style=\"stroke:#000000; stroke-width:4; stroke-opacity:1; fill:none\" points=\"\n",
       "  167.279,74.281 193.505,74.281 \n",
       "  \"/>\n",
       "<g clip-path=\"url(#clip8600)\">\n",
       "<text style=\"fill:#000000; fill-opacity:1; font-family:Arial,Helvetica Neue,Helvetica,sans-serif; font-size:48px; text-anchor:middle;\" transform=\"rotate(0, 229.132, 1541.47)\" x=\"229.132\" y=\"1541.47\">0.00</text>\n",
       "</g>\n",
       "<g clip-path=\"url(#clip8600)\">\n",
       "<text style=\"fill:#000000; fill-opacity:1; font-family:Arial,Helvetica Neue,Helvetica,sans-serif; font-size:48px; text-anchor:middle;\" transform=\"rotate(0, 744.575, 1541.47)\" x=\"744.575\" y=\"1541.47\">0.25</text>\n",
       "</g>\n",
       "<g clip-path=\"url(#clip8600)\">\n",
       "<text style=\"fill:#000000; fill-opacity:1; font-family:Arial,Helvetica Neue,Helvetica,sans-serif; font-size:48px; text-anchor:middle;\" transform=\"rotate(0, 1260.02, 1541.47)\" x=\"1260.02\" y=\"1541.47\">0.50</text>\n",
       "</g>\n",
       "<g clip-path=\"url(#clip8600)\">\n",
       "<text style=\"fill:#000000; fill-opacity:1; font-family:Arial,Helvetica Neue,Helvetica,sans-serif; font-size:48px; text-anchor:middle;\" transform=\"rotate(0, 1775.46, 1541.47)\" x=\"1775.46\" y=\"1541.47\">0.75</text>\n",
       "</g>\n",
       "<g clip-path=\"url(#clip8600)\">\n",
       "<text style=\"fill:#000000; fill-opacity:1; font-family:Arial,Helvetica Neue,Helvetica,sans-serif; font-size:48px; text-anchor:middle;\" transform=\"rotate(0, 2290.9, 1541.47)\" x=\"2290.9\" y=\"1541.47\">1.00</text>\n",
       "</g>\n",
       "<g clip-path=\"url(#clip8600)\">\n",
       "<text style=\"fill:#000000; fill-opacity:1; font-family:Arial,Helvetica Neue,Helvetica,sans-serif; font-size:48px; text-anchor:end;\" transform=\"rotate(0, 143.279, 1464.21)\" x=\"143.279\" y=\"1464.21\">0</text>\n",
       "</g>\n",
       "<g clip-path=\"url(#clip8600)\">\n",
       "<text style=\"fill:#000000; fill-opacity:1; font-family:Arial,Helvetica Neue,Helvetica,sans-serif; font-size:48px; text-anchor:end;\" transform=\"rotate(0, 143.279, 1121.11)\" x=\"143.279\" y=\"1121.11\">25</text>\n",
       "</g>\n",
       "<g clip-path=\"url(#clip8600)\">\n",
       "<text style=\"fill:#000000; fill-opacity:1; font-family:Arial,Helvetica Neue,Helvetica,sans-serif; font-size:48px; text-anchor:end;\" transform=\"rotate(0, 143.279, 777.997)\" x=\"143.279\" y=\"777.997\">50</text>\n",
       "</g>\n",
       "<g clip-path=\"url(#clip8600)\">\n",
       "<text style=\"fill:#000000; fill-opacity:1; font-family:Arial,Helvetica Neue,Helvetica,sans-serif; font-size:48px; text-anchor:end;\" transform=\"rotate(0, 143.279, 434.889)\" x=\"143.279\" y=\"434.889\">75</text>\n",
       "</g>\n",
       "<g clip-path=\"url(#clip8600)\">\n",
       "<text style=\"fill:#000000; fill-opacity:1; font-family:Arial,Helvetica Neue,Helvetica,sans-serif; font-size:48px; text-anchor:end;\" transform=\"rotate(0, 143.279, 91.781)\" x=\"143.279\" y=\"91.781\">100</text>\n",
       "</g>\n",
       "<polyline clip-path=\"url(#clip8602)\" style=\"stroke:#009af9; stroke-width:4; stroke-opacity:1; fill:none\" points=\"\n",
       "  249.75,88.0053 270.368,774.222 290.985,1002.96 311.603,1117.33 332.221,1185.95 352.838,1231.7 373.456,1264.38 394.074,1288.88 414.692,1307.95 435.309,1323.19 \n",
       "  455.927,1335.67 476.545,1346.07 497.162,1354.87 517.78,1362.41 538.398,1368.94 559.016,1374.66 579.633,1379.71 600.251,1384.19 620.869,1388.2 641.486,1391.82 \n",
       "  662.104,1395.08 682.722,1398.05 703.339,1400.77 723.957,1403.25 744.575,1405.54 765.193,1407.65 785.81,1409.61 806.428,1411.42 827.046,1413.11 847.663,1414.69 \n",
       "  868.281,1416.17 888.899,1417.55 909.517,1418.85 930.134,1420.07 950.752,1421.23 971.37,1422.31 991.987,1423.35 1012.61,1424.32 1033.22,1425.25 1053.84,1426.13 \n",
       "  1074.46,1426.96 1095.08,1427.76 1115.69,1428.52 1136.31,1429.25 1156.93,1429.94 1177.55,1430.6 1198.16,1431.24 1218.78,1431.85 1239.4,1432.43 1260.02,1432.99 \n",
       "  1280.64,1433.53 1301.25,1434.04 1321.87,1434.54 1342.49,1435.02 1363.11,1435.48 1383.72,1435.93 1404.34,1436.36 1424.96,1436.78 1445.58,1437.18 1466.19,1437.56 \n",
       "  1486.81,1437.94 1507.43,1438.3 1528.05,1438.65 1548.67,1438.99 1569.28,1439.32 1589.9,1439.64 1610.52,1439.95 1631.14,1440.25 1651.75,1440.55 1672.37,1440.83 \n",
       "  1692.99,1441.11 1713.61,1441.38 1734.22,1441.64 1754.84,1441.89 1775.46,1442.14 1796.08,1442.38 1816.7,1442.61 1837.31,1442.84 1857.93,1443.07 1878.55,1443.28 \n",
       "  1899.17,1443.49 1919.78,1443.7 1940.4,1443.9 1961.02,1444.1 1981.64,1444.29 2002.25,1444.48 2022.87,1444.66 2043.49,1444.84 2064.11,1445.02 2084.73,1445.19 \n",
       "  2105.34,1445.36 2125.96,1445.52 2146.58,1445.68 2167.2,1445.84 2187.81,1445.99 2208.43,1446.14 2229.05,1446.29 2249.67,1446.43 2270.29,1446.57 2290.9,1446.71 \n",
       "  \n",
       "  \"/>\n",
       "<path clip-path=\"url(#clip8600)\" d=\"\n",
       "M1989.93 251.724 L2280.76 251.724 L2280.76 130.764 L1989.93 130.764  Z\n",
       "  \" fill=\"#ffffff\" fill-rule=\"evenodd\" fill-opacity=\"1\"/>\n",
       "<polyline clip-path=\"url(#clip8600)\" style=\"stroke:#000000; stroke-width:4; stroke-opacity:1; fill:none\" points=\"\n",
       "  1989.93,251.724 2280.76,251.724 2280.76,130.764 1989.93,130.764 1989.93,251.724 \n",
       "  \"/>\n",
       "<polyline clip-path=\"url(#clip8600)\" style=\"stroke:#009af9; stroke-width:4; stroke-opacity:1; fill:none\" points=\"\n",
       "  2013.93,191.244 2157.93,191.244 \n",
       "  \"/>\n",
       "<g clip-path=\"url(#clip8600)\">\n",
       "<text style=\"fill:#000000; fill-opacity:1; font-family:Arial,Helvetica Neue,Helvetica,sans-serif; font-size:48px; text-anchor:start;\" transform=\"rotate(0, 2181.93, 208.744)\" x=\"2181.93\" y=\"208.744\">y1</text>\n",
       "</g>\n",
       "</svg>\n"
      ]
     },
     "execution_count": 6,
     "metadata": {},
     "output_type": "execute_result"
    }
   ],
   "source": [
    "plot(0:0.01:1, f -> f^-1 * (1-f))"
   ]
  },
  {
   "cell_type": "markdown",
   "metadata": {},
   "source": [
    "It appears that the sum $p_b$ is dominated by the largest term for small values of $f$. When $f = 0.1$ the largest term is about 9 times larger than the second largest term."
   ]
  },
  {
   "cell_type": "markdown",
   "metadata": {},
   "source": [
    "When $f = 0.1$, how many repetitions are required to get the error rate down to $10^{-15}$?"
   ]
  },
  {
   "cell_type": "markdown",
   "metadata": {},
   "source": [
    "It appears:\n",
    "\n",
    "$$\n",
    "\\lim_{N \\to \\infty}\n",
    "\\frac{\n",
    "    {N+2 \\choose (N+3)/2}\n",
    "}{\n",
    "    {N \\choose (N+1)/2}\n",
    "}\n",
    "= 4\n",
    "$$"
   ]
  },
  {
   "cell_type": "code",
   "execution_count": 7,
   "metadata": {},
   "outputs": [
    {
     "data": {
      "text/plain": [
       "26-element Array{Int64,1}:\n",
       "               1\n",
       "               3\n",
       "              10\n",
       "              35\n",
       "             126\n",
       "             462\n",
       "            1716\n",
       "            6435\n",
       "           24310\n",
       "           92378\n",
       "          352716\n",
       "         1352078\n",
       "         5200300\n",
       "        20058300\n",
       "        77558760\n",
       "       300540195\n",
       "      1166803110\n",
       "      4537567650\n",
       "     17672631900\n",
       "     68923264410\n",
       "    269128937220\n",
       "   1052049481860\n",
       "   4116715363800\n",
       "  16123801841550\n",
       "  63205303218876\n",
       " 247959266474052"
      ]
     },
     "execution_count": 7,
     "metadata": {},
     "output_type": "execute_result"
    }
   ],
   "source": [
    "binomial_terms = map(n -> binomial(Int(n), Int((n+1)/2)), 1:2:51)"
   ]
  },
  {
   "cell_type": "code",
   "execution_count": 8,
   "metadata": {},
   "outputs": [
    {
     "data": {
      "text/plain": [
       "25-element Array{Float64,1}:\n",
       " 3.0               \n",
       " 3.3333333333333335\n",
       " 3.5               \n",
       " 3.6               \n",
       " 3.6666666666666665\n",
       " 3.7142857142857144\n",
       " 3.75              \n",
       " 3.7777777777777777\n",
       " 3.8               \n",
       " 3.8181818181818183\n",
       " 3.8333333333333335\n",
       " 3.8461538461538463\n",
       " 3.857142857142857 \n",
       " 3.8666666666666667\n",
       " 3.875             \n",
       " 3.8823529411764706\n",
       " 3.888888888888889 \n",
       " 3.8947368421052633\n",
       " 3.9               \n",
       " 3.9047619047619047\n",
       " 3.909090909090909 \n",
       " 3.9130434782608696\n",
       " 3.9166666666666665\n",
       " 3.92              \n",
       " 3.923076923076923 "
      ]
     },
     "execution_count": 8,
     "metadata": {},
     "output_type": "execute_result"
    }
   ],
   "source": [
    "binomial_growth = map(i -> binomial_terms[i+1] / binomial_terms[i], 1:length(binomial_terms)-1)"
   ]
  },
  {
   "cell_type": "code",
   "execution_count": 9,
   "metadata": {
    "scrolled": false
   },
   "outputs": [
    {
     "ename": "UndefVarError",
     "evalue": "UndefVarError: b_growth not defined",
     "output_type": "error",
     "traceback": [
      "UndefVarError: b_growth not defined",
      "",
      "Stacktrace:",
      " [1] top-level scope at In[9]:2"
     ]
    }
   ],
   "source": [
    "scatter(binomial_growth, label=\"binomial growth\", legend=:bottomright)\n",
    "scatter!(ones(length(b_growth)) * 4, label=\"4\")"
   ]
  },
  {
   "cell_type": "markdown",
   "metadata": {},
   "source": [
    "${N+2 \\choose n+1}$ is about 4 times larger than ${N \\choose n}$.\n",
    "\n",
    "For $f = 0.1$, $f^1\\ (1-f)^{2-1}$ divides by about 11 for $R_{N+2}$.\n",
    "\n",
    "So each additional $2N$ in $R_N$ multiplies the error rate by about $4/11$.\n",
    "\n",
    "We are looking for an error rate of $10^{-15}$."
   ]
  },
  {
   "cell_type": "code",
   "execution_count": 10,
   "metadata": {},
   "outputs": [
    {
     "name": "stdout",
     "output_type": "stream",
     "text": [
      "  0.014414 seconds (8.44 k allocations: 483.505 KiB)\n"
     ]
    },
    {
     "data": {
      "text/plain": [
       "67.61363327915772"
      ]
     },
     "execution_count": 10,
     "metadata": {},
     "output_type": "execute_result"
    }
   ],
   "source": [
    "estimate_r(f, target_error_rate) = log(4 * f * (1-f), target_error_rate) * 2\n",
    "\n",
    "@time estimate_r(0.1, 10^-15)"
   ]
  },
  {
   "cell_type": "markdown",
   "metadata": {},
   "source": [
    "It would take roughly $R_{67}$ to reach $10^{-15}$ error rate.\n",
    "\n",
    "Let's just brute force it."
   ]
  },
  {
   "cell_type": "code",
   "execution_count": 11,
   "metadata": {},
   "outputs": [
    {
     "name": "stdout",
     "output_type": "stream",
     "text": [
      "  0.114932 seconds (225.86 k allocations: 11.012 MiB)\n"
     ]
    },
    {
     "data": {
      "text/plain": [
       "0.028000000000000008"
      ]
     },
     "execution_count": 11,
     "metadata": {},
     "output_type": "execute_result"
    }
   ],
   "source": [
    "function error_rate(f, r_n)\n",
    "    sum(pdf.(Binomial(r_n, f), n) for n in (r_n+1)/2:r_n)\n",
    "end\n",
    "\n",
    "@time error_rate(0.1, 3)"
   ]
  },
  {
   "cell_type": "code",
   "execution_count": 12,
   "metadata": {},
   "outputs": [
    {
     "name": "stdout",
     "output_type": "stream",
     "text": [
      "  0.025502 seconds (32.09 k allocations: 1.858 MiB)\n"
     ]
    },
    {
     "data": {
      "text/plain": [
       "63"
      ]
     },
     "execution_count": 12,
     "metadata": {},
     "output_type": "execute_result"
    }
   ],
   "source": [
    "function calculate_r(f, target_error_rate)\n",
    "    for r_n in 1:2:1001\n",
    "        if error_rate(f, r_n) <= target_error_rate\n",
    "            return r_n\n",
    "        end\n",
    "    end\n",
    "end\n",
    "\n",
    "@time calculate_r(0.1, 10^-15)"
   ]
  },
  {
   "cell_type": "markdown",
   "metadata": {},
   "source": [
    "The exact answer is $R_{63}$.\n",
    "\n",
    "Let's try some other numbers for fun."
   ]
  },
  {
   "cell_type": "code",
   "execution_count": 13,
   "metadata": {},
   "outputs": [
    {
     "name": "stdout",
     "output_type": "stream",
     "text": [
      "  0.000050 seconds (6 allocations: 192 bytes)\n"
     ]
    },
    {
     "data": {
      "text/plain": [
       "154.7827673777426"
      ]
     },
     "execution_count": 13,
     "metadata": {},
     "output_type": "execute_result"
    }
   ],
   "source": [
    "@time estimate_r(0.2, 10^-15)"
   ]
  },
  {
   "cell_type": "code",
   "execution_count": 14,
   "metadata": {},
   "outputs": [
    {
     "name": "stdout",
     "output_type": "stream",
     "text": [
      "  0.000605 seconds (5 allocations: 176 bytes)\n"
     ]
    },
    {
     "data": {
      "text/plain": [
       "141"
      ]
     },
     "execution_count": 14,
     "metadata": {},
     "output_type": "execute_result"
    }
   ],
   "source": [
    "@time calculate_r(0.2, 10^-15)"
   ]
  },
  {
   "cell_type": "code",
   "execution_count": 15,
   "metadata": {},
   "outputs": [
    {
     "data": {
      "image/svg+xml": [
       "<?xml version=\"1.0\" encoding=\"utf-8\"?>\n",
       "<svg xmlns=\"http://www.w3.org/2000/svg\" xmlns:xlink=\"http://www.w3.org/1999/xlink\" width=\"600\" height=\"400\" viewBox=\"0 0 2400 1600\">\n",
       "<defs>\n",
       "  <clipPath id=\"clip9000\">\n",
       "    <rect x=\"0\" y=\"0\" width=\"2400\" height=\"1600\"/>\n",
       "  </clipPath>\n",
       "</defs>\n",
       "<path clip-path=\"url(#clip9000)\" d=\"\n",
       "M0 1600 L2400 1600 L2400 0 L0 0  Z\n",
       "  \" fill=\"#ffffff\" fill-rule=\"evenodd\" fill-opacity=\"1\"/>\n",
       "<defs>\n",
       "  <clipPath id=\"clip9001\">\n",
       "    <rect x=\"480\" y=\"0\" width=\"1681\" height=\"1600\"/>\n",
       "  </clipPath>\n",
       "</defs>\n",
       "<path clip-path=\"url(#clip9000)\" d=\"\n",
       "M167.279 1487.47 L2352.76 1487.47 L2352.76 47.2441 L167.279 47.2441  Z\n",
       "  \" fill=\"#ffffff\" fill-rule=\"evenodd\" fill-opacity=\"1\"/>\n",
       "<defs>\n",
       "  <clipPath id=\"clip9002\">\n",
       "    <rect x=\"167\" y=\"47\" width=\"2186\" height=\"1441\"/>\n",
       "  </clipPath>\n",
       "</defs>\n",
       "<polyline clip-path=\"url(#clip9002)\" style=\"stroke:#000000; stroke-width:2; stroke-opacity:0.1; fill:none\" points=\"\n",
       "  229.132,1487.47 229.132,47.2441 \n",
       "  \"/>\n",
       "<polyline clip-path=\"url(#clip9002)\" style=\"stroke:#000000; stroke-width:2; stroke-opacity:0.1; fill:none\" points=\"\n",
       "  916.389,1487.47 916.389,47.2441 \n",
       "  \"/>\n",
       "<polyline clip-path=\"url(#clip9002)\" style=\"stroke:#000000; stroke-width:2; stroke-opacity:0.1; fill:none\" points=\"\n",
       "  1603.65,1487.47 1603.65,47.2441 \n",
       "  \"/>\n",
       "<polyline clip-path=\"url(#clip9002)\" style=\"stroke:#000000; stroke-width:2; stroke-opacity:0.1; fill:none\" points=\"\n",
       "  2290.9,1487.47 2290.9,47.2441 \n",
       "  \"/>\n",
       "<polyline clip-path=\"url(#clip9002)\" style=\"stroke:#000000; stroke-width:2; stroke-opacity:0.1; fill:none\" points=\"\n",
       "  167.279,1446.71 2352.76,1446.71 \n",
       "  \"/>\n",
       "<polyline clip-path=\"url(#clip9002)\" style=\"stroke:#000000; stroke-width:2; stroke-opacity:0.1; fill:none\" points=\"\n",
       "  167.279,1103.77 2352.76,1103.77 \n",
       "  \"/>\n",
       "<polyline clip-path=\"url(#clip9002)\" style=\"stroke:#000000; stroke-width:2; stroke-opacity:0.1; fill:none\" points=\"\n",
       "  167.279,760.831 2352.76,760.831 \n",
       "  \"/>\n",
       "<polyline clip-path=\"url(#clip9002)\" style=\"stroke:#000000; stroke-width:2; stroke-opacity:0.1; fill:none\" points=\"\n",
       "  167.279,417.89 2352.76,417.89 \n",
       "  \"/>\n",
       "<polyline clip-path=\"url(#clip9002)\" style=\"stroke:#000000; stroke-width:2; stroke-opacity:0.1; fill:none\" points=\"\n",
       "  167.279,74.9488 2352.76,74.9488 \n",
       "  \"/>\n",
       "<polyline clip-path=\"url(#clip9000)\" style=\"stroke:#000000; stroke-width:4; stroke-opacity:1; fill:none\" points=\"\n",
       "  167.279,1487.47 2352.76,1487.47 \n",
       "  \"/>\n",
       "<polyline clip-path=\"url(#clip9000)\" style=\"stroke:#000000; stroke-width:4; stroke-opacity:1; fill:none\" points=\"\n",
       "  167.279,1487.47 167.279,47.2441 \n",
       "  \"/>\n",
       "<polyline clip-path=\"url(#clip9000)\" style=\"stroke:#000000; stroke-width:4; stroke-opacity:1; fill:none\" points=\"\n",
       "  229.132,1487.47 229.132,1470.19 \n",
       "  \"/>\n",
       "<polyline clip-path=\"url(#clip9000)\" style=\"stroke:#000000; stroke-width:4; stroke-opacity:1; fill:none\" points=\"\n",
       "  916.389,1487.47 916.389,1470.19 \n",
       "  \"/>\n",
       "<polyline clip-path=\"url(#clip9000)\" style=\"stroke:#000000; stroke-width:4; stroke-opacity:1; fill:none\" points=\"\n",
       "  1603.65,1487.47 1603.65,1470.19 \n",
       "  \"/>\n",
       "<polyline clip-path=\"url(#clip9000)\" style=\"stroke:#000000; stroke-width:4; stroke-opacity:1; fill:none\" points=\"\n",
       "  2290.9,1487.47 2290.9,1470.19 \n",
       "  \"/>\n",
       "<polyline clip-path=\"url(#clip9000)\" style=\"stroke:#000000; stroke-width:4; stroke-opacity:1; fill:none\" points=\"\n",
       "  167.279,1446.71 193.505,1446.71 \n",
       "  \"/>\n",
       "<polyline clip-path=\"url(#clip9000)\" style=\"stroke:#000000; stroke-width:4; stroke-opacity:1; fill:none\" points=\"\n",
       "  167.279,1103.77 193.505,1103.77 \n",
       "  \"/>\n",
       "<polyline clip-path=\"url(#clip9000)\" style=\"stroke:#000000; stroke-width:4; stroke-opacity:1; fill:none\" points=\"\n",
       "  167.279,760.831 193.505,760.831 \n",
       "  \"/>\n",
       "<polyline clip-path=\"url(#clip9000)\" style=\"stroke:#000000; stroke-width:4; stroke-opacity:1; fill:none\" points=\"\n",
       "  167.279,417.89 193.505,417.89 \n",
       "  \"/>\n",
       "<polyline clip-path=\"url(#clip9000)\" style=\"stroke:#000000; stroke-width:4; stroke-opacity:1; fill:none\" points=\"\n",
       "  167.279,74.9488 193.505,74.9488 \n",
       "  \"/>\n",
       "<g clip-path=\"url(#clip9000)\">\n",
       "<text style=\"fill:#000000; fill-opacity:1; font-family:Arial,Helvetica Neue,Helvetica,sans-serif; font-size:48px; text-anchor:middle;\" transform=\"rotate(0, 229.132, 1541.47)\" x=\"229.132\" y=\"1541.47\">0.0</text>\n",
       "</g>\n",
       "<g clip-path=\"url(#clip9000)\">\n",
       "<text style=\"fill:#000000; fill-opacity:1; font-family:Arial,Helvetica Neue,Helvetica,sans-serif; font-size:48px; text-anchor:middle;\" transform=\"rotate(0, 916.389, 1541.47)\" x=\"916.389\" y=\"1541.47\">0.1</text>\n",
       "</g>\n",
       "<g clip-path=\"url(#clip9000)\">\n",
       "<text style=\"fill:#000000; fill-opacity:1; font-family:Arial,Helvetica Neue,Helvetica,sans-serif; font-size:48px; text-anchor:middle;\" transform=\"rotate(0, 1603.65, 1541.47)\" x=\"1603.65\" y=\"1541.47\">0.2</text>\n",
       "</g>\n",
       "<g clip-path=\"url(#clip9000)\">\n",
       "<text style=\"fill:#000000; fill-opacity:1; font-family:Arial,Helvetica Neue,Helvetica,sans-serif; font-size:48px; text-anchor:middle;\" transform=\"rotate(0, 2290.9, 1541.47)\" x=\"2290.9\" y=\"1541.47\">0.3</text>\n",
       "</g>\n",
       "<g clip-path=\"url(#clip9000)\">\n",
       "<text style=\"fill:#000000; fill-opacity:1; font-family:Arial,Helvetica Neue,Helvetica,sans-serif; font-size:48px; text-anchor:end;\" transform=\"rotate(0, 143.279, 1464.21)\" x=\"143.279\" y=\"1464.21\">0</text>\n",
       "</g>\n",
       "<g clip-path=\"url(#clip9000)\">\n",
       "<text style=\"fill:#000000; fill-opacity:1; font-family:Arial,Helvetica Neue,Helvetica,sans-serif; font-size:48px; text-anchor:end;\" transform=\"rotate(0, 143.279, 1121.27)\" x=\"143.279\" y=\"1121.27\">100</text>\n",
       "</g>\n",
       "<g clip-path=\"url(#clip9000)\">\n",
       "<text style=\"fill:#000000; fill-opacity:1; font-family:Arial,Helvetica Neue,Helvetica,sans-serif; font-size:48px; text-anchor:end;\" transform=\"rotate(0, 143.279, 778.331)\" x=\"143.279\" y=\"778.331\">200</text>\n",
       "</g>\n",
       "<g clip-path=\"url(#clip9000)\">\n",
       "<text style=\"fill:#000000; fill-opacity:1; font-family:Arial,Helvetica Neue,Helvetica,sans-serif; font-size:48px; text-anchor:end;\" transform=\"rotate(0, 143.279, 435.39)\" x=\"143.279\" y=\"435.39\">300</text>\n",
       "</g>\n",
       "<g clip-path=\"url(#clip9000)\">\n",
       "<text style=\"fill:#000000; fill-opacity:1; font-family:Arial,Helvetica Neue,Helvetica,sans-serif; font-size:48px; text-anchor:end;\" transform=\"rotate(0, 143.279, 92.4488)\" x=\"143.279\" y=\"92.4488\">400</text>\n",
       "</g>\n",
       "<circle clip-path=\"url(#clip9002)\" style=\"fill:#000000; stroke:none; fill-opacity:1\" cx=\"229.132\" cy=\"1446.71\" r=\"18\"/>\n",
       "<circle clip-path=\"url(#clip9002)\" style=\"fill:#009af9; stroke:none; fill-opacity:1\" cx=\"229.132\" cy=\"1446.71\" r=\"14\"/>\n",
       "<circle clip-path=\"url(#clip9002)\" style=\"fill:#000000; stroke:none; fill-opacity:1\" cx=\"297.858\" cy=\"1373.35\" r=\"18\"/>\n",
       "<circle clip-path=\"url(#clip9002)\" style=\"fill:#009af9; stroke:none; fill-opacity:1\" cx=\"297.858\" cy=\"1373.35\" r=\"14\"/>\n",
       "<circle clip-path=\"url(#clip9002)\" style=\"fill:#000000; stroke:none; fill-opacity:1\" cx=\"366.584\" cy=\"1353.66\" r=\"18\"/>\n",
       "<circle clip-path=\"url(#clip9002)\" style=\"fill:#009af9; stroke:none; fill-opacity:1\" cx=\"366.584\" cy=\"1353.66\" r=\"14\"/>\n",
       "<circle clip-path=\"url(#clip9002)\" style=\"fill:#000000; stroke:none; fill-opacity:1\" cx=\"435.309\" cy=\"1336.57\" r=\"18\"/>\n",
       "<circle clip-path=\"url(#clip9002)\" style=\"fill:#009af9; stroke:none; fill-opacity:1\" cx=\"435.309\" cy=\"1336.57\" r=\"14\"/>\n",
       "<circle clip-path=\"url(#clip9002)\" style=\"fill:#000000; stroke:none; fill-opacity:1\" cx=\"504.035\" cy=\"1320.26\" r=\"18\"/>\n",
       "<circle clip-path=\"url(#clip9002)\" style=\"fill:#009af9; stroke:none; fill-opacity:1\" cx=\"504.035\" cy=\"1320.26\" r=\"14\"/>\n",
       "<circle clip-path=\"url(#clip9002)\" style=\"fill:#000000; stroke:none; fill-opacity:1\" cx=\"572.761\" cy=\"1304.07\" r=\"18\"/>\n",
       "<circle clip-path=\"url(#clip9002)\" style=\"fill:#009af9; stroke:none; fill-opacity:1\" cx=\"572.761\" cy=\"1304.07\" r=\"14\"/>\n",
       "<circle clip-path=\"url(#clip9002)\" style=\"fill:#000000; stroke:none; fill-opacity:1\" cx=\"641.486\" cy=\"1287.62\" r=\"18\"/>\n",
       "<circle clip-path=\"url(#clip9002)\" style=\"fill:#009af9; stroke:none; fill-opacity:1\" cx=\"641.486\" cy=\"1287.62\" r=\"14\"/>\n",
       "<circle clip-path=\"url(#clip9002)\" style=\"fill:#000000; stroke:none; fill-opacity:1\" cx=\"710.212\" cy=\"1270.65\" r=\"18\"/>\n",
       "<circle clip-path=\"url(#clip9002)\" style=\"fill:#009af9; stroke:none; fill-opacity:1\" cx=\"710.212\" cy=\"1270.65\" r=\"14\"/>\n",
       "<circle clip-path=\"url(#clip9002)\" style=\"fill:#000000; stroke:none; fill-opacity:1\" cx=\"778.938\" cy=\"1252.98\" r=\"18\"/>\n",
       "<circle clip-path=\"url(#clip9002)\" style=\"fill:#009af9; stroke:none; fill-opacity:1\" cx=\"778.938\" cy=\"1252.98\" r=\"14\"/>\n",
       "<circle clip-path=\"url(#clip9002)\" style=\"fill:#000000; stroke:none; fill-opacity:1\" cx=\"847.663\" cy=\"1234.43\" r=\"18\"/>\n",
       "<circle clip-path=\"url(#clip9002)\" style=\"fill:#009af9; stroke:none; fill-opacity:1\" cx=\"847.663\" cy=\"1234.43\" r=\"14\"/>\n",
       "<circle clip-path=\"url(#clip9002)\" style=\"fill:#000000; stroke:none; fill-opacity:1\" cx=\"916.389\" cy=\"1214.84\" r=\"18\"/>\n",
       "<circle clip-path=\"url(#clip9002)\" style=\"fill:#009af9; stroke:none; fill-opacity:1\" cx=\"916.389\" cy=\"1214.84\" r=\"14\"/>\n",
       "<circle clip-path=\"url(#clip9002)\" style=\"fill:#000000; stroke:none; fill-opacity:1\" cx=\"985.115\" cy=\"1194.03\" r=\"18\"/>\n",
       "<circle clip-path=\"url(#clip9002)\" style=\"fill:#009af9; stroke:none; fill-opacity:1\" cx=\"985.115\" cy=\"1194.03\" r=\"14\"/>\n",
       "<circle clip-path=\"url(#clip9002)\" style=\"fill:#000000; stroke:none; fill-opacity:1\" cx=\"1053.84\" cy=\"1171.83\" r=\"18\"/>\n",
       "<circle clip-path=\"url(#clip9002)\" style=\"fill:#009af9; stroke:none; fill-opacity:1\" cx=\"1053.84\" cy=\"1171.83\" r=\"14\"/>\n",
       "<circle clip-path=\"url(#clip9002)\" style=\"fill:#000000; stroke:none; fill-opacity:1\" cx=\"1122.57\" cy=\"1148.05\" r=\"18\"/>\n",
       "<circle clip-path=\"url(#clip9002)\" style=\"fill:#009af9; stroke:none; fill-opacity:1\" cx=\"1122.57\" cy=\"1148.05\" r=\"14\"/>\n",
       "<circle clip-path=\"url(#clip9002)\" style=\"fill:#000000; stroke:none; fill-opacity:1\" cx=\"1191.29\" cy=\"1122.48\" r=\"18\"/>\n",
       "<circle clip-path=\"url(#clip9002)\" style=\"fill:#009af9; stroke:none; fill-opacity:1\" cx=\"1191.29\" cy=\"1122.48\" r=\"14\"/>\n",
       "<circle clip-path=\"url(#clip9002)\" style=\"fill:#000000; stroke:none; fill-opacity:1\" cx=\"1260.02\" cy=\"1094.89\" r=\"18\"/>\n",
       "<circle clip-path=\"url(#clip9002)\" style=\"fill:#009af9; stroke:none; fill-opacity:1\" cx=\"1260.02\" cy=\"1094.89\" r=\"14\"/>\n",
       "<circle clip-path=\"url(#clip9002)\" style=\"fill:#000000; stroke:none; fill-opacity:1\" cx=\"1328.74\" cy=\"1065.02\" r=\"18\"/>\n",
       "<circle clip-path=\"url(#clip9002)\" style=\"fill:#009af9; stroke:none; fill-opacity:1\" cx=\"1328.74\" cy=\"1065.02\" r=\"14\"/>\n",
       "<circle clip-path=\"url(#clip9002)\" style=\"fill:#000000; stroke:none; fill-opacity:1\" cx=\"1397.47\" cy=\"1032.55\" r=\"18\"/>\n",
       "<circle clip-path=\"url(#clip9002)\" style=\"fill:#009af9; stroke:none; fill-opacity:1\" cx=\"1397.47\" cy=\"1032.55\" r=\"14\"/>\n",
       "<circle clip-path=\"url(#clip9002)\" style=\"fill:#000000; stroke:none; fill-opacity:1\" cx=\"1466.19\" cy=\"997.158\" r=\"18\"/>\n",
       "<circle clip-path=\"url(#clip9002)\" style=\"fill:#009af9; stroke:none; fill-opacity:1\" cx=\"1466.19\" cy=\"997.158\" r=\"14\"/>\n",
       "<circle clip-path=\"url(#clip9002)\" style=\"fill:#000000; stroke:none; fill-opacity:1\" cx=\"1534.92\" cy=\"958.428\" r=\"18\"/>\n",
       "<circle clip-path=\"url(#clip9002)\" style=\"fill:#009af9; stroke:none; fill-opacity:1\" cx=\"1534.92\" cy=\"958.428\" r=\"14\"/>\n",
       "<circle clip-path=\"url(#clip9002)\" style=\"fill:#000000; stroke:none; fill-opacity:1\" cx=\"1603.65\" cy=\"915.9\" r=\"18\"/>\n",
       "<circle clip-path=\"url(#clip9002)\" style=\"fill:#009af9; stroke:none; fill-opacity:1\" cx=\"1603.65\" cy=\"915.9\" r=\"14\"/>\n",
       "<circle clip-path=\"url(#clip9002)\" style=\"fill:#000000; stroke:none; fill-opacity:1\" cx=\"1672.37\" cy=\"869.027\" r=\"18\"/>\n",
       "<circle clip-path=\"url(#clip9002)\" style=\"fill:#009af9; stroke:none; fill-opacity:1\" cx=\"1672.37\" cy=\"869.027\" r=\"14\"/>\n",
       "<circle clip-path=\"url(#clip9002)\" style=\"fill:#000000; stroke:none; fill-opacity:1\" cx=\"1741.1\" cy=\"817.166\" r=\"18\"/>\n",
       "<circle clip-path=\"url(#clip9002)\" style=\"fill:#009af9; stroke:none; fill-opacity:1\" cx=\"1741.1\" cy=\"817.166\" r=\"14\"/>\n",
       "<circle clip-path=\"url(#clip9002)\" style=\"fill:#000000; stroke:none; fill-opacity:1\" cx=\"1809.82\" cy=\"759.555\" r=\"18\"/>\n",
       "<circle clip-path=\"url(#clip9002)\" style=\"fill:#009af9; stroke:none; fill-opacity:1\" cx=\"1809.82\" cy=\"759.555\" r=\"14\"/>\n",
       "<circle clip-path=\"url(#clip9002)\" style=\"fill:#000000; stroke:none; fill-opacity:1\" cx=\"1878.55\" cy=\"695.282\" r=\"18\"/>\n",
       "<circle clip-path=\"url(#clip9002)\" style=\"fill:#009af9; stroke:none; fill-opacity:1\" cx=\"1878.55\" cy=\"695.282\" r=\"14\"/>\n",
       "<circle clip-path=\"url(#clip9002)\" style=\"fill:#000000; stroke:none; fill-opacity:1\" cx=\"1947.27\" cy=\"623.251\" r=\"18\"/>\n",
       "<circle clip-path=\"url(#clip9002)\" style=\"fill:#009af9; stroke:none; fill-opacity:1\" cx=\"1947.27\" cy=\"623.251\" r=\"14\"/>\n",
       "<circle clip-path=\"url(#clip9002)\" style=\"fill:#000000; stroke:none; fill-opacity:1\" cx=\"2016\" cy=\"542.134\" r=\"18\"/>\n",
       "<circle clip-path=\"url(#clip9002)\" style=\"fill:#009af9; stroke:none; fill-opacity:1\" cx=\"2016\" cy=\"542.134\" r=\"14\"/>\n",
       "<circle clip-path=\"url(#clip9002)\" style=\"fill:#000000; stroke:none; fill-opacity:1\" cx=\"2084.73\" cy=\"450.307\" r=\"18\"/>\n",
       "<circle clip-path=\"url(#clip9002)\" style=\"fill:#009af9; stroke:none; fill-opacity:1\" cx=\"2084.73\" cy=\"450.307\" r=\"14\"/>\n",
       "<circle clip-path=\"url(#clip9002)\" style=\"fill:#000000; stroke:none; fill-opacity:1\" cx=\"2153.45\" cy=\"345.773\" r=\"18\"/>\n",
       "<circle clip-path=\"url(#clip9002)\" style=\"fill:#009af9; stroke:none; fill-opacity:1\" cx=\"2153.45\" cy=\"345.773\" r=\"14\"/>\n",
       "<circle clip-path=\"url(#clip9002)\" style=\"fill:#000000; stroke:none; fill-opacity:1\" cx=\"2222.18\" cy=\"226.046\" r=\"18\"/>\n",
       "<circle clip-path=\"url(#clip9002)\" style=\"fill:#009af9; stroke:none; fill-opacity:1\" cx=\"2222.18\" cy=\"226.046\" r=\"14\"/>\n",
       "<circle clip-path=\"url(#clip9002)\" style=\"fill:#000000; stroke:none; fill-opacity:1\" cx=\"2290.9\" cy=\"88.0053\" r=\"18\"/>\n",
       "<circle clip-path=\"url(#clip9002)\" style=\"fill:#009af9; stroke:none; fill-opacity:1\" cx=\"2290.9\" cy=\"88.0053\" r=\"14\"/>\n",
       "<circle clip-path=\"url(#clip9002)\" style=\"fill:#000000; stroke:none; fill-opacity:1\" cx=\"229.132\" cy=\"1443.28\" r=\"18\"/>\n",
       "<circle clip-path=\"url(#clip9002)\" style=\"fill:#e26f46; stroke:none; fill-opacity:1\" cx=\"229.132\" cy=\"1443.28\" r=\"14\"/>\n",
       "<circle clip-path=\"url(#clip9002)\" style=\"fill:#000000; stroke:none; fill-opacity:1\" cx=\"297.858\" cy=\"1381.55\" r=\"18\"/>\n",
       "<circle clip-path=\"url(#clip9002)\" style=\"fill:#e26f46; stroke:none; fill-opacity:1\" cx=\"297.858\" cy=\"1381.55\" r=\"14\"/>\n",
       "<circle clip-path=\"url(#clip9002)\" style=\"fill:#000000; stroke:none; fill-opacity:1\" cx=\"366.584\" cy=\"1360.98\" r=\"18\"/>\n",
       "<circle clip-path=\"url(#clip9002)\" style=\"fill:#e26f46; stroke:none; fill-opacity:1\" cx=\"366.584\" cy=\"1360.98\" r=\"14\"/>\n",
       "<circle clip-path=\"url(#clip9002)\" style=\"fill:#000000; stroke:none; fill-opacity:1\" cx=\"435.309\" cy=\"1347.26\" r=\"18\"/>\n",
       "<circle clip-path=\"url(#clip9002)\" style=\"fill:#e26f46; stroke:none; fill-opacity:1\" cx=\"435.309\" cy=\"1347.26\" r=\"14\"/>\n",
       "<circle clip-path=\"url(#clip9002)\" style=\"fill:#000000; stroke:none; fill-opacity:1\" cx=\"504.035\" cy=\"1326.68\" r=\"18\"/>\n",
       "<circle clip-path=\"url(#clip9002)\" style=\"fill:#e26f46; stroke:none; fill-opacity:1\" cx=\"504.035\" cy=\"1326.68\" r=\"14\"/>\n",
       "<circle clip-path=\"url(#clip9002)\" style=\"fill:#000000; stroke:none; fill-opacity:1\" cx=\"572.761\" cy=\"1312.97\" r=\"18\"/>\n",
       "<circle clip-path=\"url(#clip9002)\" style=\"fill:#e26f46; stroke:none; fill-opacity:1\" cx=\"572.761\" cy=\"1312.97\" r=\"14\"/>\n",
       "<circle clip-path=\"url(#clip9002)\" style=\"fill:#000000; stroke:none; fill-opacity:1\" cx=\"641.486\" cy=\"1299.25\" r=\"18\"/>\n",
       "<circle clip-path=\"url(#clip9002)\" style=\"fill:#e26f46; stroke:none; fill-opacity:1\" cx=\"641.486\" cy=\"1299.25\" r=\"14\"/>\n",
       "<circle clip-path=\"url(#clip9002)\" style=\"fill:#000000; stroke:none; fill-opacity:1\" cx=\"710.212\" cy=\"1285.53\" r=\"18\"/>\n",
       "<circle clip-path=\"url(#clip9002)\" style=\"fill:#e26f46; stroke:none; fill-opacity:1\" cx=\"710.212\" cy=\"1285.53\" r=\"14\"/>\n",
       "<circle clip-path=\"url(#clip9002)\" style=\"fill:#000000; stroke:none; fill-opacity:1\" cx=\"778.938\" cy=\"1264.95\" r=\"18\"/>\n",
       "<circle clip-path=\"url(#clip9002)\" style=\"fill:#e26f46; stroke:none; fill-opacity:1\" cx=\"778.938\" cy=\"1264.95\" r=\"14\"/>\n",
       "<circle clip-path=\"url(#clip9002)\" style=\"fill:#000000; stroke:none; fill-opacity:1\" cx=\"847.663\" cy=\"1251.24\" r=\"18\"/>\n",
       "<circle clip-path=\"url(#clip9002)\" style=\"fill:#e26f46; stroke:none; fill-opacity:1\" cx=\"847.663\" cy=\"1251.24\" r=\"14\"/>\n",
       "<circle clip-path=\"url(#clip9002)\" style=\"fill:#000000; stroke:none; fill-opacity:1\" cx=\"916.389\" cy=\"1230.66\" r=\"18\"/>\n",
       "<circle clip-path=\"url(#clip9002)\" style=\"fill:#e26f46; stroke:none; fill-opacity:1\" cx=\"916.389\" cy=\"1230.66\" r=\"14\"/>\n",
       "<circle clip-path=\"url(#clip9002)\" style=\"fill:#000000; stroke:none; fill-opacity:1\" cx=\"985.115\" cy=\"1216.94\" r=\"18\"/>\n",
       "<circle clip-path=\"url(#clip9002)\" style=\"fill:#e26f46; stroke:none; fill-opacity:1\" cx=\"985.115\" cy=\"1216.94\" r=\"14\"/>\n",
       "<circle clip-path=\"url(#clip9002)\" style=\"fill:#000000; stroke:none; fill-opacity:1\" cx=\"1053.84\" cy=\"1196.37\" r=\"18\"/>\n",
       "<circle clip-path=\"url(#clip9002)\" style=\"fill:#e26f46; stroke:none; fill-opacity:1\" cx=\"1053.84\" cy=\"1196.37\" r=\"14\"/>\n",
       "<circle clip-path=\"url(#clip9002)\" style=\"fill:#000000; stroke:none; fill-opacity:1\" cx=\"1122.57\" cy=\"1175.79\" r=\"18\"/>\n",
       "<circle clip-path=\"url(#clip9002)\" style=\"fill:#e26f46; stroke:none; fill-opacity:1\" cx=\"1122.57\" cy=\"1175.79\" r=\"14\"/>\n",
       "<circle clip-path=\"url(#clip9002)\" style=\"fill:#000000; stroke:none; fill-opacity:1\" cx=\"1191.29\" cy=\"1148.35\" r=\"18\"/>\n",
       "<circle clip-path=\"url(#clip9002)\" style=\"fill:#e26f46; stroke:none; fill-opacity:1\" cx=\"1191.29\" cy=\"1148.35\" r=\"14\"/>\n",
       "<circle clip-path=\"url(#clip9002)\" style=\"fill:#000000; stroke:none; fill-opacity:1\" cx=\"1260.02\" cy=\"1120.92\" r=\"18\"/>\n",
       "<circle clip-path=\"url(#clip9002)\" style=\"fill:#e26f46; stroke:none; fill-opacity:1\" cx=\"1260.02\" cy=\"1120.92\" r=\"14\"/>\n",
       "<circle clip-path=\"url(#clip9002)\" style=\"fill:#000000; stroke:none; fill-opacity:1\" cx=\"1328.74\" cy=\"1093.48\" r=\"18\"/>\n",
       "<circle clip-path=\"url(#clip9002)\" style=\"fill:#e26f46; stroke:none; fill-opacity:1\" cx=\"1328.74\" cy=\"1093.48\" r=\"14\"/>\n",
       "<circle clip-path=\"url(#clip9002)\" style=\"fill:#000000; stroke:none; fill-opacity:1\" cx=\"1397.47\" cy=\"1066.05\" r=\"18\"/>\n",
       "<circle clip-path=\"url(#clip9002)\" style=\"fill:#e26f46; stroke:none; fill-opacity:1\" cx=\"1397.47\" cy=\"1066.05\" r=\"14\"/>\n",
       "<circle clip-path=\"url(#clip9002)\" style=\"fill:#000000; stroke:none; fill-opacity:1\" cx=\"1466.19\" cy=\"1031.75\" r=\"18\"/>\n",
       "<circle clip-path=\"url(#clip9002)\" style=\"fill:#e26f46; stroke:none; fill-opacity:1\" cx=\"1466.19\" cy=\"1031.75\" r=\"14\"/>\n",
       "<circle clip-path=\"url(#clip9002)\" style=\"fill:#000000; stroke:none; fill-opacity:1\" cx=\"1534.92\" cy=\"997.461\" r=\"18\"/>\n",
       "<circle clip-path=\"url(#clip9002)\" style=\"fill:#e26f46; stroke:none; fill-opacity:1\" cx=\"1534.92\" cy=\"997.461\" r=\"14\"/>\n",
       "<circle clip-path=\"url(#clip9002)\" style=\"fill:#000000; stroke:none; fill-opacity:1\" cx=\"1603.65\" cy=\"963.166\" r=\"18\"/>\n",
       "<circle clip-path=\"url(#clip9002)\" style=\"fill:#e26f46; stroke:none; fill-opacity:1\" cx=\"1603.65\" cy=\"963.166\" r=\"14\"/>\n",
       "<circle clip-path=\"url(#clip9002)\" style=\"fill:#000000; stroke:none; fill-opacity:1\" cx=\"1672.37\" cy=\"915.155\" r=\"18\"/>\n",
       "<circle clip-path=\"url(#clip9002)\" style=\"fill:#e26f46; stroke:none; fill-opacity:1\" cx=\"1672.37\" cy=\"915.155\" r=\"14\"/>\n",
       "<circle clip-path=\"url(#clip9002)\" style=\"fill:#000000; stroke:none; fill-opacity:1\" cx=\"1741.1\" cy=\"867.143\" r=\"18\"/>\n",
       "<circle clip-path=\"url(#clip9002)\" style=\"fill:#e26f46; stroke:none; fill-opacity:1\" cx=\"1741.1\" cy=\"867.143\" r=\"14\"/>\n",
       "<circle clip-path=\"url(#clip9002)\" style=\"fill:#000000; stroke:none; fill-opacity:1\" cx=\"1809.82\" cy=\"819.131\" r=\"18\"/>\n",
       "<circle clip-path=\"url(#clip9002)\" style=\"fill:#e26f46; stroke:none; fill-opacity:1\" cx=\"1809.82\" cy=\"819.131\" r=\"14\"/>\n",
       "<circle clip-path=\"url(#clip9002)\" style=\"fill:#000000; stroke:none; fill-opacity:1\" cx=\"1878.55\" cy=\"757.402\" r=\"18\"/>\n",
       "<circle clip-path=\"url(#clip9002)\" style=\"fill:#e26f46; stroke:none; fill-opacity:1\" cx=\"1878.55\" cy=\"757.402\" r=\"14\"/>\n",
       "<circle clip-path=\"url(#clip9002)\" style=\"fill:#000000; stroke:none; fill-opacity:1\" cx=\"1947.27\" cy=\"695.672\" r=\"18\"/>\n",
       "<circle clip-path=\"url(#clip9002)\" style=\"fill:#e26f46; stroke:none; fill-opacity:1\" cx=\"1947.27\" cy=\"695.672\" r=\"14\"/>\n",
       "<circle clip-path=\"url(#clip9002)\" style=\"fill:#000000; stroke:none; fill-opacity:1\" cx=\"2016\" cy=\"620.225\" r=\"18\"/>\n",
       "<circle clip-path=\"url(#clip9002)\" style=\"fill:#e26f46; stroke:none; fill-opacity:1\" cx=\"2016\" cy=\"620.225\" r=\"14\"/>\n",
       "<circle clip-path=\"url(#clip9002)\" style=\"fill:#000000; stroke:none; fill-opacity:1\" cx=\"2084.73\" cy=\"537.919\" r=\"18\"/>\n",
       "<circle clip-path=\"url(#clip9002)\" style=\"fill:#e26f46; stroke:none; fill-opacity:1\" cx=\"2084.73\" cy=\"537.919\" r=\"14\"/>\n",
       "<circle clip-path=\"url(#clip9002)\" style=\"fill:#000000; stroke:none; fill-opacity:1\" cx=\"2153.45\" cy=\"441.896\" r=\"18\"/>\n",
       "<circle clip-path=\"url(#clip9002)\" style=\"fill:#e26f46; stroke:none; fill-opacity:1\" cx=\"2153.45\" cy=\"441.896\" r=\"14\"/>\n",
       "<circle clip-path=\"url(#clip9002)\" style=\"fill:#000000; stroke:none; fill-opacity:1\" cx=\"2222.18\" cy=\"332.155\" r=\"18\"/>\n",
       "<circle clip-path=\"url(#clip9002)\" style=\"fill:#e26f46; stroke:none; fill-opacity:1\" cx=\"2222.18\" cy=\"332.155\" r=\"14\"/>\n",
       "<circle clip-path=\"url(#clip9002)\" style=\"fill:#000000; stroke:none; fill-opacity:1\" cx=\"2290.9\" cy=\"201.837\" r=\"18\"/>\n",
       "<circle clip-path=\"url(#clip9002)\" style=\"fill:#e26f46; stroke:none; fill-opacity:1\" cx=\"2290.9\" cy=\"201.837\" r=\"14\"/>\n",
       "<path clip-path=\"url(#clip9000)\" d=\"\n",
       "M239.279 312.204 L661.176 312.204 L661.176 130.764 L239.279 130.764  Z\n",
       "  \" fill=\"#ffffff\" fill-rule=\"evenodd\" fill-opacity=\"1\"/>\n",
       "<polyline clip-path=\"url(#clip9000)\" style=\"stroke:#000000; stroke-width:4; stroke-opacity:1; fill:none\" points=\"\n",
       "  239.279,312.204 661.176,312.204 661.176,130.764 239.279,130.764 239.279,312.204 \n",
       "  \"/>\n",
       "<circle clip-path=\"url(#clip9000)\" style=\"fill:#000000; stroke:none; fill-opacity:1\" cx=\"347.279\" cy=\"191.244\" r=\"25\"/>\n",
       "<circle clip-path=\"url(#clip9000)\" style=\"fill:#009af9; stroke:none; fill-opacity:1\" cx=\"347.279\" cy=\"191.244\" r=\"21\"/>\n",
       "<g clip-path=\"url(#clip9000)\">\n",
       "<text style=\"fill:#000000; fill-opacity:1; font-family:Arial,Helvetica Neue,Helvetica,sans-serif; font-size:48px; text-anchor:start;\" transform=\"rotate(0, 431.279, 208.744)\" x=\"431.279\" y=\"208.744\">estimate</text>\n",
       "</g>\n",
       "<circle clip-path=\"url(#clip9000)\" style=\"fill:#000000; stroke:none; fill-opacity:1\" cx=\"347.279\" cy=\"251.724\" r=\"25\"/>\n",
       "<circle clip-path=\"url(#clip9000)\" style=\"fill:#e26f46; stroke:none; fill-opacity:1\" cx=\"347.279\" cy=\"251.724\" r=\"21\"/>\n",
       "<g clip-path=\"url(#clip9000)\">\n",
       "<text style=\"fill:#000000; fill-opacity:1; font-family:Arial,Helvetica Neue,Helvetica,sans-serif; font-size:48px; text-anchor:start;\" transform=\"rotate(0, 431.279, 269.224)\" x=\"431.279\" y=\"269.224\">actual</text>\n",
       "</g>\n",
       "</svg>\n"
      ]
     },
     "execution_count": 15,
     "metadata": {},
     "output_type": "execute_result"
    }
   ],
   "source": [
    "scatter(0:0.01:0.3, f -> estimate_r(f, 10^-15), label=\"estimate\", legend=:topleft)\n",
    "scatter!(0:0.01:0.3, f -> calculate_r(f, 10^-15), label=\"actual\")"
   ]
  }
 ],
 "metadata": {
  "kernelspec": {
   "display_name": "Julia 1.3.1",
   "language": "julia",
   "name": "julia-1.3"
  },
  "language_info": {
   "file_extension": ".jl",
   "mimetype": "application/julia",
   "name": "julia",
   "version": "1.3.1"
  }
 },
 "nbformat": 4,
 "nbformat_minor": 4
}
