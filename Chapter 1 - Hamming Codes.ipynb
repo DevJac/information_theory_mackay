{
 "cells": [
  {
   "cell_type": "markdown",
   "metadata": {},
   "source": [
    "# Hamming Code Demonstration"
   ]
  },
  {
   "cell_type": "code",
   "execution_count": 1,
   "metadata": {},
   "outputs": [],
   "source": [
    "using LinearAlgebra"
   ]
  },
  {
   "cell_type": "code",
   "execution_count": 2,
   "metadata": {},
   "outputs": [
    {
     "data": {
      "text/plain": [
       "4×20 Array{Int64,2}:\n",
       " 1  1  0  0  0  1  0  0  1  0  0  1  0  1  1  0  1  1  0  0\n",
       " 0  1  1  0  0  1  1  1  0  1  0  1  1  1  0  0  0  0  0  1\n",
       " 1  0  1  1  1  0  1  0  0  1  1  0  1  1  0  1  0  1  1  0\n",
       " 0  1  1  0  0  0  0  0  1  1  0  0  1  0  0  1  1  1  0  0"
      ]
     },
     "execution_count": 2,
     "metadata": {},
     "output_type": "execute_result"
    }
   ],
   "source": [
    "source = rand(0:1, 4, 20)"
   ]
  },
  {
   "cell_type": "code",
   "execution_count": 3,
   "metadata": {},
   "outputs": [
    {
     "data": {
      "text/plain": [
       "7×4 Array{Int64,2}:\n",
       " 1  0  0  0\n",
       " 0  1  0  0\n",
       " 0  0  1  0\n",
       " 0  0  0  1\n",
       " 0  1  1  1\n",
       " 1  0  1  1\n",
       " 1  1  0  1"
      ]
     },
     "execution_count": 3,
     "metadata": {},
     "output_type": "execute_result"
    }
   ],
   "source": [
    "P = [ 0 1 1 1 ;\n",
    "      1 0 1 1 ;\n",
    "      1 1 0 1 ]\n",
    "\n",
    "G = [ I ;\n",
    "      P ]"
   ]
  },
  {
   "cell_type": "code",
   "execution_count": 4,
   "metadata": {},
   "outputs": [
    {
     "data": {
      "text/plain": [
       "7×20 Array{Int64,2}:\n",
       " 1  1  0  0  0  1  0  0  1  0  0  1  0  1  1  0  1  1  0  0\n",
       " 0  1  1  0  0  1  1  1  0  1  0  1  1  1  0  0  0  0  0  1\n",
       " 1  0  1  1  1  0  1  0  0  1  1  0  1  1  0  1  0  1  1  0\n",
       " 0  1  1  0  0  0  0  0  1  1  0  0  1  0  0  1  1  1  0  0\n",
       " 1  0  1  1  1  1  0  1  1  1  1  1  1  0  0  0  1  0  1  1\n",
       " 0  0  0  1  1  1  1  0  0  0  1  1  0  0  1  0  0  1  1  0\n",
       " 1  1  0  0  0  0  1  1  0  0  0  0  0  0  1  1  0  0  0  1"
      ]
     },
     "execution_count": 4,
     "metadata": {},
     "output_type": "execute_result"
    }
   ],
   "source": [
    "transmitted = G*source .% 2"
   ]
  },
  {
   "cell_type": "code",
   "execution_count": 5,
   "metadata": {},
   "outputs": [
    {
     "data": {
      "text/plain": [
       "7×20 Array{Int64,2}:\n",
       " 0  0  1  0  0  0  0  0  0  1  0  1  1  0  0  0  0  1  0  0\n",
       " 0  0  0  0  0  0  0  0  0  0  0  0  0  0  0  1  0  0  0  0\n",
       " 0  0  0  0  1  0  0  1  0  0  0  0  0  0  0  0  0  0  0  0\n",
       " 0  0  0  0  0  0  0  0  0  0  0  0  0  0  1  0  0  0  0  0\n",
       " 0  0  0  0  0  1  0  0  1  1  0  0  0  0  0  0  0  0  0  0\n",
       " 0  0  0  0  0  0  1  0  0  0  0  0  0  0  0  0  0  0  0  0\n",
       " 0  0  0  1  0  0  0  0  0  0  1  0  1  0  0  1  0  0  0  0"
      ]
     },
     "execution_count": 5,
     "metadata": {},
     "output_type": "execute_result"
    }
   ],
   "source": [
    "f = 0.1\n",
    "noise = map(similar(transmitted)) do _\n",
    "    rand() < f ? 1 : 0\n",
    "end"
   ]
  },
  {
   "cell_type": "code",
   "execution_count": 6,
   "metadata": {},
   "outputs": [
    {
     "data": {
      "text/plain": [
       "7×20 Array{Int64,2}:\n",
       " 1  1  1  0  0  1  0  0  1  1  0  0  1  1  1  0  1  0  0  0\n",
       " 0  1  1  0  0  1  1  1  0  1  0  1  1  1  0  1  0  0  0  1\n",
       " 1  0  1  1  0  0  1  1  0  1  1  0  1  1  0  1  0  1  1  0\n",
       " 0  1  1  0  0  0  0  0  1  1  0  0  1  0  1  1  1  1  0  0\n",
       " 1  0  1  1  1  0  0  1  0  0  1  1  1  0  0  0  1  0  1  1\n",
       " 0  0  0  1  1  1  0  0  0  0  1  1  0  0  1  0  0  1  1  0\n",
       " 1  1  0  1  0  0  1  1  0  0  1  0  1  0  1  0  0  0  0  1"
      ]
     },
     "execution_count": 6,
     "metadata": {},
     "output_type": "execute_result"
    }
   ],
   "source": [
    "received = (transmitted + noise) .% 2"
   ]
  },
  {
   "cell_type": "code",
   "execution_count": 7,
   "metadata": {},
   "outputs": [
    {
     "data": {
      "text/plain": [
       "3×7 Array{Int64,2}:\n",
       " 0  1  1  1  1  0  0\n",
       " 1  0  1  1  0  1  0\n",
       " 1  1  0  1  0  0  1"
      ]
     },
     "execution_count": 7,
     "metadata": {},
     "output_type": "execute_result"
    }
   ],
   "source": [
    "H = [P I]"
   ]
  },
  {
   "cell_type": "code",
   "execution_count": 8,
   "metadata": {
    "scrolled": true
   },
   "outputs": [
    {
     "data": {
      "text/plain": [
       "3×20 Array{Int64,2}:\n",
       " 0  0  0  0  1  1  0  1  1  1  0  0  0  0  1  1  0  0  0  0\n",
       " 0  0  1  0  1  0  1  1  0  1  0  1  1  0  1  0  0  1  0  0\n",
       " 0  0  1  1  0  0  0  0  0  1  1  1  0  0  1  0  0  1  0  0"
      ]
     },
     "execution_count": 8,
     "metadata": {},
     "output_type": "execute_result"
    }
   ],
   "source": [
    "syndrome = H*received .% 2"
   ]
  },
  {
   "cell_type": "code",
   "execution_count": 9,
   "metadata": {},
   "outputs": [
    {
     "data": {
      "text/plain": [
       "7×20 Array{Int64,2}:\n",
       " 0  0  1  0  0  0  0  0  0  0  0  1  0  0  0  0  0  1  0  0\n",
       " 0  0  0  0  0  0  0  0  0  0  0  0  0  0  0  0  0  0  0  0\n",
       " 0  0  0  0  1  0  0  1  0  0  0  0  0  0  0  0  0  0  0  0\n",
       " 0  0  0  0  0  0  0  0  0  1  0  0  0  0  1  0  0  0  0  0\n",
       " 0  0  0  0  0  1  0  0  1  0  0  0  0  0  0  1  0  0  0  0\n",
       " 0  0  0  0  0  0  1  0  0  0  0  0  1  0  0  0  0  0  0  0\n",
       " 0  0  0  1  0  0  0  0  0  0  1  0  0  0  0  0  0  0  0  0"
      ]
     },
     "execution_count": 9,
     "metadata": {},
     "output_type": "execute_result"
    }
   ],
   "source": [
    "reconstructed_noise = mapslices(syndrome, dims=1) do syndrome_col\n",
    "    [H[:,i] == syndrome_col ? 1 : 0 for i in 1:7]\n",
    "end"
   ]
  },
  {
   "cell_type": "code",
   "execution_count": 10,
   "metadata": {},
   "outputs": [
    {
     "data": {
      "text/plain": [
       "7×20 Array{Int64,2}:\n",
       " 0  0  0  0  0  0  0  0  0   1  0  0   1  0  0   0  0  0  0  0\n",
       " 0  0  0  0  0  0  0  0  0   0  0  0   0  0  0   1  0  0  0  0\n",
       " 0  0  0  0  0  0  0  0  0   0  0  0   0  0  0   0  0  0  0  0\n",
       " 0  0  0  0  0  0  0  0  0  -1  0  0   0  0  0   0  0  0  0  0\n",
       " 0  0  0  0  0  0  0  0  0   1  0  0   0  0  0  -1  0  0  0  0\n",
       " 0  0  0  0  0  0  0  0  0   0  0  0  -1  0  0   0  0  0  0  0\n",
       " 0  0  0  0  0  0  0  0  0   0  0  0   1  0  0   1  0  0  0  0"
      ]
     },
     "execution_count": 10,
     "metadata": {},
     "output_type": "execute_result"
    }
   ],
   "source": [
    "noise - reconstructed_noise"
   ]
  }
 ],
 "metadata": {
  "kernelspec": {
   "display_name": "Julia 1.3.1",
   "language": "julia",
   "name": "julia-1.3"
  },
  "language_info": {
   "file_extension": ".jl",
   "mimetype": "application/julia",
   "name": "julia",
   "version": "1.3.1"
  }
 },
 "nbformat": 4,
 "nbformat_minor": 4
}
